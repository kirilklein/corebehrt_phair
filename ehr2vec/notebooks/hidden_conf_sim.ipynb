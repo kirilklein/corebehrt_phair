{
 "cells": [
  {
   "cell_type": "markdown",
   "metadata": {},
   "source": [
    "Here is the updated markdown description in the original format with LaTeX code enclosed by `$$`:\n",
    "\n",
    "---\n",
    "\n",
    "## Simulation of Hidden Confounders and Conditional Effect\n",
    "\n",
    "This notebook demonstrates the simulation of data under the presence of a hidden confounder and calculates the effect of \\(X\\) on \\(Y\\) both from the structural causal model and from observational data.\n",
    "\n",
    "### Step 1: Define a Simple Model\n",
    "\n",
    "We assume the following structural causal model (SCM) with a hidden confounder \\(U_{XY}\\):\n",
    "\n",
    "- $U_{XY} \\sim \\mathcal{N}(0, 1)$\n",
    "- $C = \\alpha_C U_{XY} + \\epsilon_C$, where $\\epsilon_C \\sim \\mathcal{N}(0, \\sigma_C)$\n",
    "- $X = \\sigma(\\alpha_X U_{XY} + \\gamma_{CX} C)$, where $\\sigma$ is the logistic function\n",
    "- $Y = \\sigma(\\beta X + \\alpha_Y U_{XY} + \\gamma_{CY} C)$, where $\\sigma$ is the logistic function\n",
    "\n",
    "Here:\n",
    "\n",
    "- $\\alpha_C, \\alpha_X, \\alpha_Y, \\gamma_{CX}, \\gamma_{CY}, \\beta$ are coefficients that define the strength of the relationships, where $\\beta$ is the log odds ratio of $Y$ given $X$.\n",
    "- $\\sigma_C$ is the standard deviation of the noise in the equation for $C$.\n"
   ]
  },
  {
   "cell_type": "code",
   "execution_count": 76,
   "metadata": {},
   "outputs": [],
   "source": [
    "import numpy as np\n",
    "import pandas as pd\n",
    "from sklearn.linear_model import LogisticRegression\n",
    "from scipy.special import expit \n",
    "class Model:\n",
    "    def __init__(self, \n",
    "                 alpha_C=1, alpha_X=1, alpha_Y=1, beta=2.0, \n",
    "                 gamma_CX=0, sigma_C=0.5, gamma_CY=0):\n",
    "        \"\"\"\n",
    "        Initializes the structural causal model.\n",
    "        Parameters:\n",
    "        alpha_C, alpha_X, alpha_Y (float): Coefficients for the unobserved confounder in the equations for C and Y.\n",
    "        gamma_CX, gamma_CY (float): Coefficients for C in the equations for X and Y.\n",
    "        beta (float): Coefficient for X in the equation for Y. (log odds ratio of Y given X)\n",
    "        sigma_C (float): Standard deviations of the noise in the equations for C, X, and Y.\n",
    "        \"\"\"\n",
    "        self.alpha_C = alpha_C\n",
    "        self.alpha_X = alpha_X\n",
    "        self.alpha_Y = alpha_Y\n",
    "        self.gamma_CX = gamma_CX\n",
    "        self.gamma_CY = gamma_CY\n",
    "        self.beta = beta\n",
    "        self.sigma_C = sigma_C\n",
    "\n",
    "    def simulate_binary_data(self, n=1000):\n",
    "        \"\"\"\n",
    "        Simulates data with binary X and Y based on the specified structural causal model.\n",
    "        \n",
    "        Parameters:\n",
    "        n (int): Number of samples to generate.\n",
    "\n",
    "        Returns:\n",
    "        pd.DataFrame: Simulated data with binary 'X' and 'Y'\n",
    "        \"\"\"\n",
    "        # Generate unobserved confounder\n",
    "        U_XY = np.random.normal(0, 1, n)\n",
    "        \n",
    "        # Generate observed covariate C\n",
    "        C = self.alpha_C * U_XY + np.random.normal(0, self.sigma_C, n)\n",
    "        \n",
    "        # Generate binary X using logistic function\n",
    "        logit_X = self.alpha_X * U_XY + self.gamma_CX * C \n",
    "        p_X = expit(logit_X)  # expit is the logistic sigmoid function\n",
    "        X = np.random.binomial(1, p_X)\n",
    "        \n",
    "        # Generate binary Y using logistic function\n",
    "        logit_Y = self.beta * X + self.alpha_Y * U_XY + self.gamma_CY * C\n",
    "        p_Y = expit(logit_Y)\n",
    "        Y = np.random.binomial(1, p_Y)\n",
    "        \n",
    "        return pd.DataFrame({'X': X, 'Y': Y, 'C': C})"
   ]
  },
  {
   "cell_type": "code",
   "execution_count": 77,
   "metadata": {},
   "outputs": [],
   "source": [
    "from sklearn.neighbors import NearestNeighbors\n",
    "\n",
    "def matching(data, adjustment_variable=None):\n",
    "    adjustment_data = data[[adjustment_variable]]\n",
    "    logit = LogisticRegression()\n",
    "    logit.fit(adjustment_data, data['X'])\n",
    "    data['propensity_score'] = logit.predict_proba(adjustment_data)[:, 1]\n",
    "\n",
    "    treated = data[data['X'] == 1]\n",
    "    control = data[data['X'] == 0]\n",
    "    \n",
    "    nn = NearestNeighbors(n_neighbors=1)\n",
    "    nn.fit(control[['propensity_score']])\n",
    "    distances, indices = nn.kneighbors(treated[['propensity_score']])\n",
    "    matched_control_indices = indices.flatten()\n",
    "    matched_control = control.iloc[matched_control_indices].reset_index()\n",
    "    return treated, matched_control\n",
    "\n",
    "def calculate_log_odds_ratio(data, adjustment_variable=None):\n",
    "    \"\"\"\n",
    "    Estimates the effect of a binary X on a binary Y using non-parametric methods.\n",
    "    \n",
    "    Parameters:\n",
    "    data (pd.DataFrame): DataFrame containing 'X' and 'Y'.\n",
    "    \n",
    "    Returns:\n",
    "    dict: Estimated difference in proportions and odds ratio\n",
    "    \"\"\"\n",
    "    if adjustment_variable is not None:\n",
    "        treated, controls =  matching(data, adjustment_variable)\n",
    "    else:\n",
    "        treated = data[data['X'] == 1]\n",
    "        controls = data[data['X'] == 0] \n",
    "    # Calculate proportions\n",
    "    treated_outcome_rate = treated['Y'].mean()\n",
    "    control_outcome_rate = controls['Y'].mean()\n",
    "    \n",
    "    # Odds ratio\n",
    "    treated_odds = treated_outcome_rate / (1 - treated_outcome_rate)\n",
    "    control_odds = control_outcome_rate / (1 - control_outcome_rate)\n",
    "    odds_ratio = treated_odds / control_odds\n",
    "    \n",
    "    return np.log(odds_ratio)"
   ]
  },
  {
   "cell_type": "code",
   "execution_count": 78,
   "metadata": {},
   "outputs": [
    {
     "name": "stdout",
     "output_type": "stream",
     "text": [
      "Estimated LOR 1.99434425838183 (True LOR: 2.0) in the absence of confounding\n"
     ]
    }
   ],
   "source": [
    "LOR = 2\n",
    "model = Model(alpha_C=0, alpha_X=0, alpha_Y=0, gamma_CX=0, gamma_CY=0, beta=LOR, sigma_C=0)\n",
    "data =  model.simulate_binary_data(100000)\n",
    "estimated_lor = calculate_log_odds_ratio(data)\n",
    "\n",
    "print(f\"Estimated LOR {estimated_lor} (True LOR: 2.0) in the absence of confounding\")"
   ]
  },
  {
   "cell_type": "markdown",
   "metadata": {},
   "source": [
    "## Measure the Effect of $X$ on $Y$\n",
    "### Strong effect of $U_{XY}$ on $C$"
   ]
  },
  {
   "cell_type": "code",
   "execution_count": 85,
   "metadata": {},
   "outputs": [
    {
     "name": "stdout",
     "output_type": "stream",
     "text": [
      "True LOR: 2.0\n",
      "LOR with adjustment: {'C': 1.779945107385773, 'CX': 1.1837686503315423, 'CY': 0.31609147356455186, 'CXY': 1.2099035630581834}\n",
      "LOR withot adjustment: {'C': 2.482779704319193, 'CX': 3.35814555301262, 'CY': 1.7614707977521051, 'CXY': 6.384053137729153}\n"
     ]
    }
   ],
   "source": [
    "ALPHA_C = 10 # How strongly is C influenced by the unobserved confounder\n",
    "models = {'C': Model(alpha_C = ALPHA_C), \n",
    "          'CX': Model(alpha_C = ALPHA_C, gamma_CX=1), \n",
    "          'CY': Model(alpha_C = ALPHA_C, gamma_CY=1), \n",
    "          'CXY': Model(alpha_C = ALPHA_C, gamma_CX=1, gamma_CY=1)}\n",
    "\n",
    "data = {name: model.simulate_binary_data(100000) for name, model in models.items()}\n",
    "lor_w_adj = {name: calculate_log_odds_ratio(data, adjustment_variable='C') for name, data in data.items()}\n",
    "lor_wo_adj = {name: calculate_log_odds_ratio(data) for name, data in data.items()}\n",
    "\n",
    "print(f\"True LOR: {models['C'].beta}\")\n",
    "print(f\"LOR with adjustment: {lor_w_adj}\")\n",
    "print(f\"LOR withot adjustment: {lor_wo_adj}\")"
   ]
  },
  {
   "cell_type": "markdown",
   "metadata": {},
   "source": [
    "### Weak effect of $U_{XY}$ on $C$"
   ]
  },
  {
   "cell_type": "code",
   "execution_count": 86,
   "metadata": {},
   "outputs": [
    {
     "name": "stdout",
     "output_type": "stream",
     "text": [
      "True LOR: 2.0\n",
      "LOR with adjustment: {'C': 1.918182453826578, 'CX': 1.9669203346634252, 'CY': 1.4564636719637345, 'CXY': 1.6205927889746883}\n",
      "LOR withot adjustment: {'C': 2.4643063218126655, 'CX': 2.8292474942176034, 'CY': 2.3663123954147998, 'CXY': 3.212560027838093}\n"
     ]
    }
   ],
   "source": [
    "ALPHA_C = 1 # How strongly is C influenced by the unobserved confounder\n",
    "models = {'C': Model(alpha_C = ALPHA_C), \n",
    "          'CX': Model(alpha_C = ALPHA_C, gamma_CX=1), \n",
    "          'CY': Model(alpha_C = ALPHA_C, gamma_CY=1), \n",
    "          'CXY': Model(alpha_C = ALPHA_C, gamma_CX=1, gamma_CY=1)}\n",
    "\n",
    "data = {name: model.simulate_binary_data(100000) for name, model in models.items()}\n",
    "lor_w_adj = {name: calculate_log_odds_ratio(data, adjustment_variable='C') for name, data in data.items()}\n",
    "lor_wo_adj = {name: calculate_log_odds_ratio(data) for name, data in data.items()}\n",
    "\n",
    "print(f\"True LOR: {models['C'].beta}\")\n",
    "print(f\"LOR with adjustment: {lor_w_adj}\")\n",
    "print(f\"LOR withot adjustment: {lor_wo_adj}\")"
   ]
  }
 ],
 "metadata": {
  "kernelspec": {
   "display_name": "patbert",
   "language": "python",
   "name": "python3"
  },
  "language_info": {
   "codemirror_mode": {
    "name": "ipython",
    "version": 3
   },
   "file_extension": ".py",
   "mimetype": "text/x-python",
   "name": "python",
   "nbconvert_exporter": "python",
   "pygments_lexer": "ipython3",
   "version": "3.10.13"
  }
 },
 "nbformat": 4,
 "nbformat_minor": 2
}
