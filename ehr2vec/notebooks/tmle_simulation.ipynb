{
 "cells": [
  {
   "cell_type": "code",
   "execution_count": 3,
   "metadata": {},
   "outputs": [],
   "source": [
    "import pandas as pd\n",
    "import numpy as np\n",
    "import matplotlib.pyplot as plt\n"
   ]
  },
  {
   "cell_type": "code",
   "execution_count": 2,
   "metadata": {},
   "outputs": [],
   "source": [
    "class LongitudinalDataSimulator:\n",
    "    def __init__(self, n_subjects, n_timepoints, treatment_effect_strength, \n",
    "                 treatment_intercept=-1, outcome_intercept=-1, censoring_strength=0.5):\n",
    "        self.n_subjects = n_subjects\n",
    "        self.n_timepoints = n_timepoints\n",
    "        self.treatment_effect_strength = treatment_effect_strength\n",
    "        self.treatment_intercept = treatment_intercept\n",
    "        self.outcome_intercept = outcome_intercept\n",
    "        self.censoring_strength = censoring_strength\n",
    "\n",
    "    def simulate(self):\n",
    "        np.random.seed(42)  # For reproducibility\n",
    "    \n",
    "        # Initialize storage for data\n",
    "        data = []\n",
    "        \n",
    "        for i in range(self.n_subjects):\n",
    "            # Static continuous covariates (assumed to be normally distributed for simplicity)\n",
    "            W1 = np.random.normal(0, 1)\n",
    "            W2 = np.random.normal(0, 1)\n",
    "            A = self.simulate_binary(self.treatment_model, (W1, W2))\n",
    "            censored = False\n",
    "            for t in range(self.n_timepoints):\n",
    "                if self.simulate_binary(self.censoring_model, (A, W2)) == 1:\n",
    "                    censored = True\n",
    "                if censored:\n",
    "                    break\n",
    "                Y = self.simulate_binary(self.outcome_model, (W1, W2, A))\n",
    "                # Store the result for this time point\n",
    "                data.append([i, t, W1, W2, A, Y])\n",
    "        data = pd.DataFrame(data, columns=['subject_id', 'time', 'W1', 'W2', 'A', 'Y'])\n",
    "        return data\n",
    "\n",
    "    def simulate_binary(self, model, args):\n",
    "        logit = model(*args)\n",
    "        p = 1 / (1 + np.exp(-logit))\n",
    "        return np.random.binomial(1, p)\n",
    "\n",
    "    def treatment_model(self, W1, W2):\n",
    "        return self.treatment_intercept + 0.8 * W1 + 0.1 * W2\n",
    "    def outcome_model(self, W1, W2, A):\n",
    "        return self.outcome_intercept + 0.2 * W1 + 0.9 * W2 + self.treatment_effect_strength * A\n",
    "    def censoring_model(self, A, W2):\n",
    "        return self.censoring_strength + 0.5 * W2 + 0.4 * A "
   ]
  },
  {
   "cell_type": "code",
   "execution_count": 4,
   "metadata": {},
   "outputs": [],
   "source": [
    "# Parameters\n",
    "n_subjects = 1000\n",
    "n_timepoints = 20\n",
    "treatment_effect_strength = 2  # Control the strength of the treatment effect\n",
    "simulator = LongitudinalDataSimulator(\n",
    "    n_subjects, n_timepoints, treatment_effect_strength,\n",
    "    treatment_intercept=-2.4, outcome_intercept=-3, censoring_strength=-3)\n",
    "# Simulate the data\n",
    "data = simulator.simulate()"
   ]
  },
  {
   "cell_type": "markdown",
   "metadata": {},
   "source": [
    "## Examine Data"
   ]
  },
  {
   "cell_type": "code",
   "execution_count": 167,
   "metadata": {},
   "outputs": [
    {
     "name": "stdout",
     "output_type": "stream",
     "text": [
      "treated patients 82\n",
      "patients with outcome 432\n",
      "treated patients with outcome 68\n",
      "control patients with outcome 364\n",
      "ORs 0.18681318681318682\n"
     ]
    }
   ],
   "source": [
    "print('treated patients', data[data.A == 1].subject_id.nunique())\n",
    "print('patients with outcome', data[data.Y == 1].subject_id.nunique())\n",
    "print('treated patients with outcome', data[(data.Y == 1) & (data.A == 1)].subject_id.nunique())\n",
    "print('control patients with outcome', data[(data.Y == 1) & (data.A == 0)].subject_id.nunique())\n",
    "print('ORs', data[(data.Y == 1) & (data.A == 1)].subject_id.nunique() / data[(data.Y == 1) & (data.A == 0)].subject_id.nunique())"
   ]
  },
  {
   "cell_type": "code",
   "execution_count": 172,
   "metadata": {},
   "outputs": [
    {
     "data": {
      "text/plain": [
       "<matplotlib.legend.Legend at 0x1a247af2380>"
      ]
     },
     "execution_count": 172,
     "metadata": {},
     "output_type": "execute_result"
    },
    {
     "data": {
      "image/png": "[encoded data removed]",
      "text/plain": [
       "<Figure size 640x480 with 1 Axes>"
      ]
     },
     "metadata": {},
     "output_type": "display_data"
    }
   ],
   "source": [
    "fig, ax = plt.subplots()\n",
    "_, bin_edges = np.histogram(data.groupby('subject_id').time.max(), bins=20)\n",
    "ax.hist(data[data.A==1].groupby('subject_id').time.max(), label='treated', \n",
    "        color='r', alpha=.6, density=True, bins=bin_edges)\n",
    "ax.hist(data[data.A==0].groupby('subject_id').time.max(), label='untreated', \n",
    "        color='b', alpha=.6, density=True, bins=bin_edges)\n",
    "ax.legend()"
   ]
  },
  {
   "cell_type": "code",
   "execution_count": null,
   "metadata": {},
   "outputs": [],
   "source": []
  },
  {
   "cell_type": "code",
   "execution_count": null,
   "metadata": {},
   "outputs": [],
   "source": []
  }
 ],
 "metadata": {
  "kernelspec": {
   "display_name": "patbert",
   "language": "python",
   "name": "python3"
  },
  "language_info": {
   "codemirror_mode": {
    "name": "ipython",
    "version": 3
   },
   "file_extension": ".py",
   "mimetype": "text/x-python",
   "name": "python",
   "nbconvert_exporter": "python",
   "pygments_lexer": "ipython3",
   "version": "3.10.13"
  }
 },
 "nbformat": 4,
 "nbformat_minor": 2
}
